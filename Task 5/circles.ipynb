{
 "cells": [
  {
   "cell_type": "code",
   "execution_count": 1,
   "metadata": {},
   "outputs": [],
   "source": [
    "#library imports\n",
    "import os\n",
    "import pandas as pd\n",
    "import numpy as np\n",
    "\n",
    "import cv2\n",
    "from PIL import Image, ImageDraw\n",
    "import matplotlib.pyplot as plt\n",
    "from matplotlib.patches import Rectangle\n",
    "from sklearn.model_selection import train_test_split\n",
    "import xml.etree.ElementTree as ET\n",
    "\n",
    "import torch\n",
    "from torch.utils.data import Dataset, DataLoader\n",
    "import torch.optim as optim\n",
    "import torch.nn as nn\n",
    "import torch.nn.functional as F\n",
    "from torchvision import models\n",
    "import torchvision.transforms as T\n",
    "\n",
    "\n",
    "from tqdm import tqdm"
   ]
  },
  {
   "cell_type": "code",
   "execution_count": 2,
   "metadata": {},
   "outputs": [],
   "source": [
    "def rgb2gray(rgb: torch.Tensor):\n",
    "    r, g, b = rgb[0,:,:], rgb[1,:,:], rgb[2,:,:]\n",
    "    gray = r + g + b\n",
    "    gray = gray.to(dtype=torch.float32)\n",
    "    gray = gray/(torch.max(gray)*2)\n",
    "\n",
    "    return gray"
   ]
  },
  {
   "cell_type": "code",
   "execution_count": 3,
   "metadata": {},
   "outputs": [],
   "source": [
    "blurrer = T.GaussianBlur(kernel_size=(3, 3))"
   ]
  },
  {
   "cell_type": "code",
   "execution_count": 4,
   "metadata": {},
   "outputs": [],
   "source": [
    "def get_edges(image, blurrer, conv_X, conv_Y, save = False, image_name = ''):\n",
    "    blurred_img = blurrer(image)\n",
    "    grayscale_img_T = rgb2gray(blurred_img).unsqueeze(0)\n",
    "    g = torch.hypot(conv_X(grayscale_img_T), conv_Y(grayscale_img_T))\n",
    "    g_img_T = (g.squeeze(0) > 0.45).to(dtype=g.dtype)\n",
    "    if save:\n",
    "        g_img = T.ToPILImage()(g_img_T)\n",
    "        g_img.save(f'edge_detection/{image_name}')\n",
    "    return g_img_T"
   ]
  },
  {
   "cell_type": "code",
   "execution_count": 5,
   "metadata": {},
   "outputs": [],
   "source": [
    "Prewitt_X = torch.tensor(\n",
    "    [[1, 0, -1],\n",
    "     [1, 0, -1], \n",
    "     [1, 0, -1]], dtype=torch.float32)\n",
    "Prewitt_X = Prewitt_X.unsqueeze(0).unsqueeze(0)\n",
    "\n",
    "Prewitt_Y = torch.tensor(\n",
    "    [[1, 1, 1],\n",
    "     [0, 0, 0], \n",
    "     [-1, -1, -1]], dtype=torch.float32)\n",
    "Prewitt_Y = Prewitt_Y.unsqueeze(0).unsqueeze(0)"
   ]
  },
  {
   "cell_type": "code",
   "execution_count": 6,
   "metadata": {},
   "outputs": [],
   "source": [
    "conv_X = nn.Conv2d(in_channels=1, out_channels=1, kernel_size=3)\n",
    "conv_Y = nn.Conv2d(in_channels=1, out_channels=1, kernel_size=3)"
   ]
  },
  {
   "cell_type": "code",
   "execution_count": 7,
   "metadata": {},
   "outputs": [],
   "source": [
    "conv_X.weight = nn.Parameter(Prewitt_X)\n",
    "conv_Y.weight = nn.Parameter(Prewitt_Y)"
   ]
  },
  {
   "cell_type": "code",
   "execution_count": 8,
   "metadata": {},
   "outputs": [],
   "source": [
    "# n = 0\n",
    "# images = torch.zeros((100, 778, 1818))\n",
    "# for image_name in os.listdir(\"images/\"):\n",
    "#     if image_name.endswith(\".png\"):\n",
    "#         image = Image.open(f'images/{image_name}')\n",
    "#         image = T.PILToTensor()(image)\n",
    "#         images[n] = get_edges(image, blurrer, conv_X, conv_Y, True, f'{image_name}')\n",
    "#         n = n+1\n",
    "# print(f\"{n} done!!!\")"
   ]
  },
  {
   "cell_type": "code",
   "execution_count": 9,
   "metadata": {},
   "outputs": [],
   "source": [
    "labels_list = []\n",
    "\n",
    "n = 0\n",
    "for label_name in os.listdir(\"labels/\"):\n",
    "    if label_name.endswith(\".xml\"):\n",
    "        anno = {}\n",
    "        tree = ET.parse(f'labels/{label_name}')\n",
    "        root = tree.getroot()\n",
    "        n+=1\n",
    "        anno['filename'] = 'images/' + label_name.replace('xml', 'png')\n",
    "        anno['xmin'] = int(root[6][4][0].text)/1820\n",
    "        anno['ymin'] = int(root[6][4][1].text)/780\n",
    "        anno['xmax'] = int(root[6][4][2].text)/1820\n",
    "        anno['ymax'] = int(root[6][4][3].text)/780\n",
    "        # print(label_name, str(n) + '.png', int(root[6][4][0].text))\n",
    "        \n",
    "        labels_list.append(anno)\n",
    "\n",
    "labels: pd.DataFrame = pd.DataFrame(labels_list)"
   ]
  },
  {
   "cell_type": "code",
   "execution_count": 10,
   "metadata": {},
   "outputs": [
    {
     "data": {
      "text/html": [
       "<div>\n",
       "<style scoped>\n",
       "    .dataframe tbody tr th:only-of-type {\n",
       "        vertical-align: middle;\n",
       "    }\n",
       "\n",
       "    .dataframe tbody tr th {\n",
       "        vertical-align: top;\n",
       "    }\n",
       "\n",
       "    .dataframe thead th {\n",
       "        text-align: right;\n",
       "    }\n",
       "</style>\n",
       "<table border=\"1\" class=\"dataframe\">\n",
       "  <thead>\n",
       "    <tr style=\"text-align: right;\">\n",
       "      <th></th>\n",
       "      <th>filename</th>\n",
       "      <th>xmin</th>\n",
       "      <th>ymin</th>\n",
       "      <th>xmax</th>\n",
       "      <th>ymax</th>\n",
       "    </tr>\n",
       "  </thead>\n",
       "  <tbody>\n",
       "    <tr>\n",
       "      <th>0</th>\n",
       "      <td>images/1.png</td>\n",
       "      <td>0.277473</td>\n",
       "      <td>0.597436</td>\n",
       "      <td>0.402198</td>\n",
       "      <td>0.880769</td>\n",
       "    </tr>\n",
       "    <tr>\n",
       "      <th>1</th>\n",
       "      <td>images/10.png</td>\n",
       "      <td>0.242857</td>\n",
       "      <td>0.584615</td>\n",
       "      <td>0.358791</td>\n",
       "      <td>0.857692</td>\n",
       "    </tr>\n",
       "    <tr>\n",
       "      <th>2</th>\n",
       "      <td>images/100.png</td>\n",
       "      <td>0.384615</td>\n",
       "      <td>0.621795</td>\n",
       "      <td>0.525824</td>\n",
       "      <td>0.956410</td>\n",
       "    </tr>\n",
       "    <tr>\n",
       "      <th>3</th>\n",
       "      <td>images/11.png</td>\n",
       "      <td>0.404396</td>\n",
       "      <td>0.679487</td>\n",
       "      <td>0.539011</td>\n",
       "      <td>1.000000</td>\n",
       "    </tr>\n",
       "    <tr>\n",
       "      <th>4</th>\n",
       "      <td>images/12.png</td>\n",
       "      <td>0.421429</td>\n",
       "      <td>0.648718</td>\n",
       "      <td>0.549451</td>\n",
       "      <td>0.953846</td>\n",
       "    </tr>\n",
       "  </tbody>\n",
       "</table>\n",
       "</div>"
      ],
      "text/plain": [
       "         filename      xmin      ymin      xmax      ymax\n",
       "0    images/1.png  0.277473  0.597436  0.402198  0.880769\n",
       "1   images/10.png  0.242857  0.584615  0.358791  0.857692\n",
       "2  images/100.png  0.384615  0.621795  0.525824  0.956410\n",
       "3   images/11.png  0.404396  0.679487  0.539011  1.000000\n",
       "4   images/12.png  0.421429  0.648718  0.549451  0.953846"
      ]
     },
     "execution_count": 10,
     "metadata": {},
     "output_type": "execute_result"
    }
   ],
   "source": [
    "labels.head()"
   ]
  },
  {
   "cell_type": "code",
   "execution_count": 11,
   "metadata": {},
   "outputs": [
    {
     "name": "stdout",
     "output_type": "stream",
     "text": [
      "0.1412087912087912 0.2833333333333333\n"
     ]
    }
   ],
   "source": [
    "max_x = 0\n",
    "max_y = 0\n",
    "\n",
    "for _, x in labels.iterrows():\n",
    "    if x[3]- x[1] > max_x:\n",
    "        max_x = x[3] - x[1]\n",
    "    if x[4]- x[2] > max_x:\n",
    "        max_y = x[4] - x[2]\n",
    "\n",
    "print(max_x, max_y)"
   ]
  },
  {
   "cell_type": "code",
   "execution_count": 12,
   "metadata": {},
   "outputs": [],
   "source": [
    "#Reading an image\n",
    "def read_image(path):\n",
    "    image = Image.open(path)\n",
    "    image = T.PILToTensor()(image)\n",
    "    return image"
   ]
  },
  {
   "cell_type": "code",
   "execution_count": 13,
   "metadata": {},
   "outputs": [],
   "source": [
    "def denormalize(bb):\n",
    "    return (bb*[780, 1820, 780, 1820]).astype(np.int64)\n",
    "\n",
    "def create_mask(bb, x):\n",
    "    \"\"\"Creates a mask for the bounding box of same shape as image\"\"\"\n",
    "    rows,cols,*_ = x.shape\n",
    "    # print(bb)\n",
    "    Y = np.zeros((rows, cols))\n",
    "    bb = denormalize(bb.astype(np.float64))\n",
    "    # print(bb)\n",
    "    Y[bb[0]:bb[2], bb[1]:bb[3]] = 1.\n",
    "    return Y\n",
    "\n",
    "def mask_to_bb(Y):\n",
    "    \"\"\"Convert mask Y to a bounding box, assumes 0 as background nonzero object\"\"\"\n",
    "    cols, rows = np.nonzero(Y)\n",
    "    if len(cols)==0: \n",
    "        return np.zeros(4, dtype=np.float32)\n",
    "    top_row = np.min(rows)\n",
    "    left_col = np.min(cols)\n",
    "    bottom_row = np.max(rows)\n",
    "    right_col = np.max(cols)\n",
    "    return np.array([left_col, top_row, right_col, bottom_row], dtype=np.float32)\n",
    "\n",
    "def create_bb_array(x):\n",
    "    \"\"\"Generates bounding box array from a train_df row\"\"\"\n",
    "    return np.array([x[1],x[0],x[3],x[2]])"
   ]
  },
  {
   "cell_type": "code",
   "execution_count": 14,
   "metadata": {},
   "outputs": [
    {
     "name": "stdout",
     "output_type": "stream",
     "text": [
      "(780, 1820, 3)\n",
      "['images/61.png' 0.3901098901098901 0.5217948717948718 0.49615384615384617\n",
      " 0.7743589743589744]\n"
     ]
    }
   ],
   "source": [
    "im = cv2.imread(str(labels.values[58][0]))\n",
    "bb = create_bb_array(labels.values[58][1:])\n",
    "print(im.shape)\n",
    "print(str(labels.values[58]))"
   ]
  },
  {
   "cell_type": "code",
   "execution_count": 15,
   "metadata": {},
   "outputs": [
    {
     "name": "stdout",
     "output_type": "stream",
     "text": [
      "[0.52179487 0.39010989 0.77435897 0.49615385]\n"
     ]
    },
    {
     "data": {
      "text/plain": [
       "array([407., 710., 603., 902.], dtype=float32)"
      ]
     },
     "execution_count": 15,
     "metadata": {},
     "output_type": "execute_result"
    }
   ],
   "source": [
    "print(bb)\n",
    "Y = create_mask(bb, im)\n",
    "mask_to_bb(Y)"
   ]
  },
  {
   "cell_type": "code",
   "execution_count": 16,
   "metadata": {},
   "outputs": [
    {
     "data": {
      "text/plain": [
       "<matplotlib.image.AxesImage at 0x19b0967f370>"
      ]
     },
     "execution_count": 16,
     "metadata": {},
     "output_type": "execute_result"
    },
    {
     "data": {
      "image/png": "[encoded data removed]",
      "text/plain": [
       "<Figure size 640x480 with 1 Axes>"
      ]
     },
     "metadata": {},
     "output_type": "display_data"
    }
   ],
   "source": [
    "plt.imshow(im)"
   ]
  },
  {
   "cell_type": "code",
   "execution_count": 17,
   "metadata": {},
   "outputs": [
    {
     "data": {
      "text/plain": [
       "<matplotlib.image.AxesImage at 0x19b098d95e0>"
      ]
     },
     "execution_count": 17,
     "metadata": {},
     "output_type": "execute_result"
    },
    {
     "data": {
      "image/png": "[encoded data removed]",
      "text/plain": [
       "<Figure size 640x480 with 1 Axes>"
      ]
     },
     "metadata": {},
     "output_type": "display_data"
    }
   ],
   "source": [
    "plt.imshow(Y, cmap='gray')"
   ]
  },
  {
   "cell_type": "code",
   "execution_count": 18,
   "metadata": {},
   "outputs": [],
   "source": [
    "def create_corner_rect(bb, color='red'):\n",
    "    bb = np.array(bb, dtype=np.float32)\n",
    "    return plt.Rectangle((bb[1], bb[0]), bb[3]-bb[1], bb[2]-bb[0], color=color,\n",
    "                         fill=False, lw=1)\n",
    "\n",
    "def show_corner_bb(im, bb):\n",
    "    plt.imshow(im)\n",
    "    plt.gca().add_patch(create_corner_rect(bb))"
   ]
  },
  {
   "cell_type": "code",
   "execution_count": 19,
   "metadata": {},
   "outputs": [
    {
     "data": {
      "image/png": "[encoded data removed]",
      "text/plain": [
       "<Figure size 640x480 with 1 Axes>"
      ]
     },
     "metadata": {},
     "output_type": "display_data"
    }
   ],
   "source": [
    "#original\n",
    "im = cv2.imread(str(labels.values[68][0]))\n",
    "im = cv2.cvtColor(im, cv2.COLOR_BGR2RGB)\n",
    "show_corner_bb(im, create_bb_array(denormalize(labels.values[68][1:])))"
   ]
  },
  {
   "cell_type": "code",
   "execution_count": 20,
   "metadata": {},
   "outputs": [
    {
     "data": {
      "text/html": [
       "<div>\n",
       "<style scoped>\n",
       "    .dataframe tbody tr th:only-of-type {\n",
       "        vertical-align: middle;\n",
       "    }\n",
       "\n",
       "    .dataframe tbody tr th {\n",
       "        vertical-align: top;\n",
       "    }\n",
       "\n",
       "    .dataframe thead th {\n",
       "        text-align: right;\n",
       "    }\n",
       "</style>\n",
       "<table border=\"1\" class=\"dataframe\">\n",
       "  <thead>\n",
       "    <tr style=\"text-align: right;\">\n",
       "      <th></th>\n",
       "      <th>filename</th>\n",
       "      <th>xmin</th>\n",
       "      <th>ymin</th>\n",
       "      <th>xmax</th>\n",
       "      <th>ymax</th>\n",
       "      <th>bb</th>\n",
       "    </tr>\n",
       "  </thead>\n",
       "  <tbody>\n",
       "    <tr>\n",
       "      <th>0</th>\n",
       "      <td>images/1.png</td>\n",
       "      <td>0.277473</td>\n",
       "      <td>0.597436</td>\n",
       "      <td>0.402198</td>\n",
       "      <td>0.880769</td>\n",
       "      <td>[0.5974358974358974, 0.2774725274725275, 0.880...</td>\n",
       "    </tr>\n",
       "    <tr>\n",
       "      <th>1</th>\n",
       "      <td>images/10.png</td>\n",
       "      <td>0.242857</td>\n",
       "      <td>0.584615</td>\n",
       "      <td>0.358791</td>\n",
       "      <td>0.857692</td>\n",
       "      <td>[0.5846153846153846, 0.24285714285714285, 0.85...</td>\n",
       "    </tr>\n",
       "    <tr>\n",
       "      <th>2</th>\n",
       "      <td>images/100.png</td>\n",
       "      <td>0.384615</td>\n",
       "      <td>0.621795</td>\n",
       "      <td>0.525824</td>\n",
       "      <td>0.956410</td>\n",
       "      <td>[0.6217948717948718, 0.38461538461538464, 0.95...</td>\n",
       "    </tr>\n",
       "    <tr>\n",
       "      <th>3</th>\n",
       "      <td>images/11.png</td>\n",
       "      <td>0.404396</td>\n",
       "      <td>0.679487</td>\n",
       "      <td>0.539011</td>\n",
       "      <td>1.000000</td>\n",
       "      <td>[0.6794871794871795, 0.4043956043956044, 1.0, ...</td>\n",
       "    </tr>\n",
       "    <tr>\n",
       "      <th>4</th>\n",
       "      <td>images/12.png</td>\n",
       "      <td>0.421429</td>\n",
       "      <td>0.648718</td>\n",
       "      <td>0.549451</td>\n",
       "      <td>0.953846</td>\n",
       "      <td>[0.6487179487179487, 0.42142857142857143, 0.95...</td>\n",
       "    </tr>\n",
       "  </tbody>\n",
       "</table>\n",
       "</div>"
      ],
      "text/plain": [
       "         filename      xmin      ymin      xmax      ymax  \\\n",
       "0    images/1.png  0.277473  0.597436  0.402198  0.880769   \n",
       "1   images/10.png  0.242857  0.584615  0.358791  0.857692   \n",
       "2  images/100.png  0.384615  0.621795  0.525824  0.956410   \n",
       "3   images/11.png  0.404396  0.679487  0.539011  1.000000   \n",
       "4   images/12.png  0.421429  0.648718  0.549451  0.953846   \n",
       "\n",
       "                                                  bb  \n",
       "0  [0.5974358974358974, 0.2774725274725275, 0.880...  \n",
       "1  [0.5846153846153846, 0.24285714285714285, 0.85...  \n",
       "2  [0.6217948717948718, 0.38461538461538464, 0.95...  \n",
       "3  [0.6794871794871795, 0.4043956043956044, 1.0, ...  \n",
       "4  [0.6487179487179487, 0.42142857142857143, 0.95...  "
      ]
     },
     "execution_count": 20,
     "metadata": {},
     "output_type": "execute_result"
    }
   ],
   "source": [
    "bbs = []\n",
    "for index, row in labels.iterrows():\n",
    "    # print(row.values)\n",
    "    bb = create_bb_array(row.values[1:])\n",
    "    bbs.append(bb)\n",
    "labels['bb'] = bbs\n",
    "labels.head()"
   ]
  },
  {
   "cell_type": "code",
   "execution_count": 21,
   "metadata": {},
   "outputs": [],
   "source": [
    "df_train = labels.reset_index()"
   ]
  },
  {
   "cell_type": "code",
   "execution_count": 22,
   "metadata": {},
   "outputs": [],
   "source": [
    "X = df_train['filename']\n",
    "Y = df_train['bb']"
   ]
  },
  {
   "cell_type": "code",
   "execution_count": 23,
   "metadata": {},
   "outputs": [
    {
     "data": {
      "text/plain": [
       "0      images/1.png\n",
       "1     images/10.png\n",
       "2    images/100.png\n",
       "3     images/11.png\n",
       "4     images/12.png\n",
       "Name: filename, dtype: object"
      ]
     },
     "execution_count": 23,
     "metadata": {},
     "output_type": "execute_result"
    }
   ],
   "source": [
    "X.head()"
   ]
  },
  {
   "cell_type": "code",
   "execution_count": 24,
   "metadata": {},
   "outputs": [],
   "source": [
    "X_train, X_val, y_train, y_val = train_test_split(X, Y, test_size=0.2, random_state=42)"
   ]
  },
  {
   "cell_type": "code",
   "execution_count": 25,
   "metadata": {},
   "outputs": [],
   "source": [
    "class CirclesDataset(Dataset):\n",
    "    def __init__(self, paths, y, transforms=False):\n",
    "        self.transforms = transforms\n",
    "        self.paths = paths.values\n",
    "        self.y = y.values\n",
    "\n",
    "    def __len__(self):\n",
    "        return len(self.paths)\n",
    "    \n",
    "    def __getitem__(self, idx):\n",
    "        path = self.paths[idx]\n",
    "        y_bb = self.y[idx]\n",
    "        x = read_image(path)\n",
    "        x = get_edges(x, blurrer, conv_X, conv_Y)\n",
    "        x = torch.roll(x, 2)\n",
    "        return x, y_bb"
   ]
  },
  {
   "cell_type": "code",
   "execution_count": 26,
   "metadata": {},
   "outputs": [],
   "source": [
    "train_ds = CirclesDataset(X_train ,y_train)\n",
    "valid_ds = CirclesDataset(X_val, y_val)"
   ]
  },
  {
   "cell_type": "code",
   "execution_count": 27,
   "metadata": {},
   "outputs": [
    {
     "data": {
      "text/plain": [
       "array(['images/59.png', 'images/89.png', 'images/32.png', 'images/47.png',\n",
       "       'images/71.png', 'images/22.png', 'images/45.png', 'images/96.png',\n",
       "       'images/17.png', 'images/74.png', 'images/19.png', 'images/51.png',\n",
       "       'images/86.png', 'images/34.png', 'images/93.png', 'images/13.png',\n",
       "       'images/69.png', 'images/68.png', 'images/40.png', 'images/23.png',\n",
       "       'images/53.png', 'images/4.png', 'images/15.png', 'images/95.png',\n",
       "       'images/33.png', 'images/26.png', 'images/82.png', 'images/31.png',\n",
       "       'images/65.png', 'images/20.png', 'images/30.png', 'images/11.png',\n",
       "       'images/24.png', 'images/43.png', 'images/16.png', 'images/8.png',\n",
       "       'images/14.png', 'images/67.png', 'images/41.png', 'images/9.png',\n",
       "       'images/6.png', 'images/99.png', 'images/58.png', 'images/48.png',\n",
       "       'images/54.png', 'images/7.png', 'images/50.png', 'images/70.png',\n",
       "       'images/64.png', 'images/97.png', 'images/80.png', 'images/46.png',\n",
       "       'images/61.png', 'images/52.png', 'images/98.png', 'images/60.png',\n",
       "       'images/77.png', 'images/38.png', 'images/94.png', 'images/62.png',\n",
       "       'images/66.png', 'images/85.png', 'images/42.png', 'images/35.png',\n",
       "       'images/10.png', 'images/56.png', 'images/28.png',\n",
       "       'images/100.png', 'images/3.png', 'images/88.png', 'images/91.png',\n",
       "       'images/76.png', 'images/87.png', 'images/83.png', 'images/27.png',\n",
       "       'images/63.png', 'images/73.png', 'images/21.png', 'images/92.png',\n",
       "       'images/55.png'], dtype=object)"
      ]
     },
     "execution_count": 27,
     "metadata": {},
     "output_type": "execute_result"
    }
   ],
   "source": [
    "train_ds.paths"
   ]
  },
  {
   "cell_type": "code",
   "execution_count": 28,
   "metadata": {},
   "outputs": [],
   "source": [
    "batch_size = 1\n",
    "train_dl = DataLoader(train_ds, batch_size=batch_size, shuffle=True)\n",
    "valid_dl = DataLoader(valid_ds, batch_size=batch_size)"
   ]
  },
  {
   "cell_type": "code",
   "execution_count": 29,
   "metadata": {},
   "outputs": [
    {
     "data": {
      "text/plain": [
       "(80,)"
      ]
     },
     "execution_count": 29,
     "metadata": {},
     "output_type": "execute_result"
    }
   ],
   "source": [
    "X_train.shape"
   ]
  },
  {
   "cell_type": "code",
   "execution_count": 54,
   "metadata": {},
   "outputs": [],
   "source": [
    "# class BB_model(nn.Module):\n",
    "#     def __init__(self):\n",
    "#         super(BB_model, self).__init__()\n",
    "#         resnet = models.resnet34(pretrained=True)\n",
    "#         layers = list(resnet.children())[:8]\n",
    "#         self.features1 = nn.Sequential(*layers[:6])\n",
    "#         self.features2 = nn.Sequential(*layers[6:])\n",
    "#         self.classifier = nn.Sequential(nn.BatchNorm1d(512), nn.Linear(512, 4))\n",
    "#         self.bb = nn.Sequential(nn.BatchNorm1d(512), nn.Linear(512, 4))\n",
    "        \n",
    "#     def forward(self, x):\n",
    "#         x = self.features1(x)\n",
    "#         x = self.features2(x)\n",
    "#         x = F.relu(x)\n",
    "#         x = nn.AdaptiveAvgPool2d((1,1))(x)\n",
    "#         x = x.view(x.shape[0], -1)\n",
    "#         return self.classifier(x), self.bb(x)\n",
    "\n",
    "class Circle_model(torch.nn.Module):\n",
    "\n",
    "    def __init__(self):\n",
    "        super(Circle_model, self).__init__()\n",
    "        # 1 input image channel (black & white), 6 output channels, 5x5 square convolution\n",
    "        # kernel\n",
    "        self.conv1 = torch.nn.Conv2d(1, 6, 250)\n",
    "        self.conv2 = torch.nn.Conv2d(6, 1, 200)\n",
    "        # an affine operation: y = Wx + b\n",
    "        self.fc1 = torch.nn.Linear(9344  , 1000)\n",
    "        self.fc2 = torch.nn.Linear(1000, 1000)\n",
    "        self.fc3 = torch.nn.Linear(1000, 512)\n",
    "        self.fc4 = torch.nn.Linear(512, 4)\n",
    "\n",
    "\n",
    "\n",
    "    def forward(self, x):\n",
    "        # Max pooling over a (2, 2) window\n",
    "        x = F.max_pool2d(F.relu(self.conv1(x)), 2)\n",
    "        x = F.max_pool2d(F.relu(self.conv2(x)), 2)\n",
    "        # If the size is a square you can only specify a single number\n",
    "        x = x.view(-1, self.num_flat_features(x))\n",
    "        x = F.sigmoid(self.fc1(x))\n",
    "        x = F.sigmoid(self.fc2(x))\n",
    "        x = F.sigmoid(self.fc3(x))\n",
    "        x = self.fc4(x)\n",
    "        return x\n",
    "\n",
    "    def num_flat_features(self, x):\n",
    "        size = x.size()[1:]  # all dimensions except the batch dimension\n",
    "        num_features = 1\n",
    "        for s in size:\n",
    "            num_features *= s\n",
    "        return num_features"
   ]
  },
  {
   "cell_type": "code",
   "execution_count": 55,
   "metadata": {},
   "outputs": [],
   "source": [
    "def update_optimizer(optimizer, lr):\n",
    "    for i, param_group in enumerate(optimizer.param_groups):\n",
    "        param_group[\"lr\"] = lr"
   ]
  },
  {
   "cell_type": "code",
   "execution_count": 56,
   "metadata": {},
   "outputs": [],
   "source": [
    "import torchvision\n",
    "def val_metrics(model, valid_dl, C=1):\n",
    "    model.eval()\n",
    "    total = 0\n",
    "    sum_loss = 0\n",
    "    for id, (x, y_bb) in enumerate(valid_dl):\n",
    "        x = x.cuda().float()\n",
    "        y_bb = y_bb.cuda().float()\n",
    "        out_bb = model(x)\n",
    "        # loss_bb = torchvision.ops.distance_box_iou_loss(out_bb, y_bb)\n",
    "        loss_bb = F.mse_loss(out_bb, y_bb, reduction=\"none\").sum(1)\n",
    "        loss_bb = loss_bb.sum()\n",
    "        loss = loss_bb/C\n",
    "        sum_loss += loss.item()\n",
    "        total += 1\n",
    "    return sum_loss/total"
   ]
  },
  {
   "cell_type": "code",
   "execution_count": 57,
   "metadata": {},
   "outputs": [],
   "source": [
    "def train_epocs(model, optimizer, train_dl, val_dl, epochs=10,C=1):\n",
    "    idx = 0\n",
    "    for i in range(epochs):\n",
    "        model.train()\n",
    "        total: int = 0\n",
    "        sum_loss = 0\n",
    "        for (x, y_bb) in tqdm(train_dl, desc=f\"Epoch: {i+1}\"):\n",
    "            x = x.cuda().float()\n",
    "            y_bb = y_bb.cuda().float()\n",
    "            out_bb = model(x)\n",
    "            # loss_bb = torchvision.ops.distance_box_iou_loss(out_bb, y_bb)\n",
    "            loss_bb = F.mse_loss(out_bb, y_bb, reduction=\"none\").sum(1)\n",
    "            loss_bb = loss_bb.sum()\n",
    "            loss = loss_bb/C\n",
    "            optimizer.zero_grad()\n",
    "            loss.backward()\n",
    "            optimizer.step()\n",
    "            idx += 1\n",
    "            total += 1\n",
    "            sum_loss += loss.item()\n",
    "        train_loss = sum_loss/total\n",
    "        val_loss = val_metrics(model, val_dl, C)\n",
    "        print(\"Train loss: %.4f\\nVal loss: %.4f\" % (train_loss, val_loss))\n",
    "    return sum_loss/total"
   ]
  },
  {
   "cell_type": "code",
   "execution_count": 58,
   "metadata": {},
   "outputs": [],
   "source": [
    "model = Circle_model().cuda()\n",
    "parameters = filter(lambda p: p.requires_grad, model.parameters())\n",
    "optimizer = torch.optim.Adam(parameters, lr=0.00001)"
   ]
  },
  {
   "cell_type": "code",
   "execution_count": 59,
   "metadata": {},
   "outputs": [
    {
     "name": "stderr",
     "output_type": "stream",
     "text": [
      "Epoch: 1: 100%|██████████| 80/80 [04:51<00:00,  3.65s/it]\n"
     ]
    },
    {
     "name": "stdout",
     "output_type": "stream",
     "text": [
      "Train loss: 0.2753\n",
      "Val loss: 0.0788\n"
     ]
    },
    {
     "name": "stderr",
     "output_type": "stream",
     "text": [
      "Epoch: 2: 100%|██████████| 80/80 [04:51<00:00,  3.65s/it]\n"
     ]
    },
    {
     "name": "stdout",
     "output_type": "stream",
     "text": [
      "Train loss: 0.0647\n",
      "Val loss: 0.0632\n"
     ]
    },
    {
     "name": "stderr",
     "output_type": "stream",
     "text": [
      "Epoch: 3: 100%|██████████| 80/80 [04:51<00:00,  3.65s/it]\n"
     ]
    },
    {
     "name": "stdout",
     "output_type": "stream",
     "text": [
      "Train loss: 0.0451\n",
      "Val loss: 0.0537\n"
     ]
    },
    {
     "name": "stderr",
     "output_type": "stream",
     "text": [
      "Epoch: 4: 100%|██████████| 80/80 [04:51<00:00,  3.65s/it]\n"
     ]
    },
    {
     "name": "stdout",
     "output_type": "stream",
     "text": [
      "Train loss: 0.0327\n",
      "Val loss: 0.0380\n"
     ]
    },
    {
     "name": "stderr",
     "output_type": "stream",
     "text": [
      "Epoch: 5: 100%|██████████| 80/80 [04:51<00:00,  3.65s/it]\n"
     ]
    },
    {
     "name": "stdout",
     "output_type": "stream",
     "text": [
      "Train loss: 0.0245\n",
      "Val loss: 0.0302\n"
     ]
    },
    {
     "name": "stderr",
     "output_type": "stream",
     "text": [
      "Epoch: 6: 100%|██████████| 80/80 [04:51<00:00,  3.65s/it]\n"
     ]
    },
    {
     "name": "stdout",
     "output_type": "stream",
     "text": [
      "Train loss: 0.0199\n",
      "Val loss: 0.0261\n"
     ]
    },
    {
     "name": "stderr",
     "output_type": "stream",
     "text": [
      "Epoch: 7: 100%|██████████| 80/80 [04:51<00:00,  3.64s/it]\n"
     ]
    },
    {
     "name": "stdout",
     "output_type": "stream",
     "text": [
      "Train loss: 0.0174\n",
      "Val loss: 0.0260\n"
     ]
    },
    {
     "name": "stderr",
     "output_type": "stream",
     "text": [
      "Epoch: 8: 100%|██████████| 80/80 [04:51<00:00,  3.64s/it]\n"
     ]
    },
    {
     "name": "stdout",
     "output_type": "stream",
     "text": [
      "Train loss: 0.0148\n",
      "Val loss: 0.0248\n"
     ]
    },
    {
     "name": "stderr",
     "output_type": "stream",
     "text": [
      "Epoch: 9: 100%|██████████| 80/80 [04:51<00:00,  3.64s/it]\n"
     ]
    },
    {
     "name": "stdout",
     "output_type": "stream",
     "text": [
      "Train loss: 0.0136\n",
      "Val loss: 0.0215\n"
     ]
    },
    {
     "name": "stderr",
     "output_type": "stream",
     "text": [
      "Epoch: 10: 100%|██████████| 80/80 [04:51<00:00,  3.64s/it]\n"
     ]
    },
    {
     "name": "stdout",
     "output_type": "stream",
     "text": [
      "Train loss: 0.0127\n",
      "Val loss: 0.0230\n"
     ]
    },
    {
     "name": "stderr",
     "output_type": "stream",
     "text": [
      "Epoch: 11: 100%|██████████| 80/80 [04:51<00:00,  3.64s/it]\n"
     ]
    },
    {
     "name": "stdout",
     "output_type": "stream",
     "text": [
      "Train loss: 0.0122\n",
      "Val loss: 0.0202\n"
     ]
    },
    {
     "name": "stderr",
     "output_type": "stream",
     "text": [
      "Epoch: 12: 100%|██████████| 80/80 [04:51<00:00,  3.64s/it]\n"
     ]
    },
    {
     "name": "stdout",
     "output_type": "stream",
     "text": [
      "Train loss: 0.0110\n",
      "Val loss: 0.0239\n"
     ]
    },
    {
     "name": "stderr",
     "output_type": "stream",
     "text": [
      "Epoch: 13: 100%|██████████| 80/80 [04:51<00:00,  3.64s/it]\n"
     ]
    },
    {
     "name": "stdout",
     "output_type": "stream",
     "text": [
      "Train loss: 0.0105\n",
      "Val loss: 0.0168\n"
     ]
    },
    {
     "name": "stderr",
     "output_type": "stream",
     "text": [
      "Epoch: 14: 100%|██████████| 80/80 [04:51<00:00,  3.64s/it]\n"
     ]
    },
    {
     "name": "stdout",
     "output_type": "stream",
     "text": [
      "Train loss: 0.0099\n",
      "Val loss: 0.0168\n"
     ]
    },
    {
     "name": "stderr",
     "output_type": "stream",
     "text": [
      "Epoch: 15: 100%|██████████| 80/80 [04:51<00:00,  3.64s/it]\n"
     ]
    },
    {
     "name": "stdout",
     "output_type": "stream",
     "text": [
      "Train loss: 0.0095\n",
      "Val loss: 0.0155\n"
     ]
    },
    {
     "data": {
      "text/plain": [
       "0.009524595071843578"
      ]
     },
     "execution_count": 59,
     "metadata": {},
     "output_type": "execute_result"
    }
   ],
   "source": [
    "train_epocs(model, optimizer, train_dl, valid_dl, epochs=15)"
   ]
  },
  {
   "cell_type": "code",
   "execution_count": 60,
   "metadata": {},
   "outputs": [],
   "source": [
    "torch.save(model.state_dict(), 'model.pth')"
   ]
  },
  {
   "cell_type": "code",
   "execution_count": 61,
   "metadata": {},
   "outputs": [
    {
     "name": "stderr",
     "output_type": "stream",
     "text": [
      "Epoch: 1: 100%|██████████| 80/80 [04:49<00:00,  3.61s/it]\n"
     ]
    },
    {
     "name": "stdout",
     "output_type": "stream",
     "text": [
      "Train loss: 0.0343\n",
      "Val loss: 0.0864\n"
     ]
    },
    {
     "name": "stderr",
     "output_type": "stream",
     "text": [
      "Epoch: 2: 100%|██████████| 80/80 [04:50<00:00,  3.63s/it]\n"
     ]
    },
    {
     "name": "stdout",
     "output_type": "stream",
     "text": [
      "Train loss: 0.0380\n",
      "Val loss: 0.0223\n"
     ]
    },
    {
     "name": "stderr",
     "output_type": "stream",
     "text": [
      "Epoch: 3: 100%|██████████| 80/80 [04:49<00:00,  3.62s/it]\n"
     ]
    },
    {
     "name": "stdout",
     "output_type": "stream",
     "text": [
      "Train loss: 0.0188\n",
      "Val loss: 0.0195\n"
     ]
    },
    {
     "name": "stderr",
     "output_type": "stream",
     "text": [
      "Epoch: 4: 100%|██████████| 80/80 [04:49<00:00,  3.62s/it]\n"
     ]
    },
    {
     "name": "stdout",
     "output_type": "stream",
     "text": [
      "Train loss: 0.0137\n",
      "Val loss: 0.0244\n"
     ]
    },
    {
     "name": "stderr",
     "output_type": "stream",
     "text": [
      "Epoch: 5: 100%|██████████| 80/80 [04:50<00:00,  3.63s/it]\n"
     ]
    },
    {
     "name": "stdout",
     "output_type": "stream",
     "text": [
      "Train loss: 0.0127\n",
      "Val loss: 0.0175\n"
     ]
    },
    {
     "name": "stderr",
     "output_type": "stream",
     "text": [
      "Epoch: 6: 100%|██████████| 80/80 [04:49<00:00,  3.62s/it]\n"
     ]
    },
    {
     "name": "stdout",
     "output_type": "stream",
     "text": [
      "Train loss: 0.0217\n",
      "Val loss: 0.0462\n"
     ]
    },
    {
     "name": "stderr",
     "output_type": "stream",
     "text": [
      "Epoch: 7: 100%|██████████| 80/80 [04:49<00:00,  3.62s/it]\n"
     ]
    },
    {
     "name": "stdout",
     "output_type": "stream",
     "text": [
      "Train loss: 0.0256\n",
      "Val loss: 0.0275\n"
     ]
    },
    {
     "name": "stderr",
     "output_type": "stream",
     "text": [
      "Epoch: 8: 100%|██████████| 80/80 [04:49<00:00,  3.62s/it]\n"
     ]
    },
    {
     "name": "stdout",
     "output_type": "stream",
     "text": [
      "Train loss: 0.0136\n",
      "Val loss: 0.0234\n"
     ]
    },
    {
     "name": "stderr",
     "output_type": "stream",
     "text": [
      "Epoch: 9: 100%|██████████| 80/80 [04:49<00:00,  3.62s/it]\n"
     ]
    },
    {
     "name": "stdout",
     "output_type": "stream",
     "text": [
      "Train loss: 0.0122\n",
      "Val loss: 0.0224\n"
     ]
    },
    {
     "name": "stderr",
     "output_type": "stream",
     "text": [
      "Epoch: 10: 100%|██████████| 80/80 [04:49<00:00,  3.62s/it]\n"
     ]
    },
    {
     "name": "stdout",
     "output_type": "stream",
     "text": [
      "Train loss: 0.0094\n",
      "Val loss: 0.0164\n"
     ]
    },
    {
     "data": {
      "text/plain": [
       "0.009357909659138386"
      ]
     },
     "execution_count": 61,
     "metadata": {},
     "output_type": "execute_result"
    }
   ],
   "source": [
    "update_optimizer(optimizer, 0.0001)\n",
    "train_epocs(model, optimizer, train_dl, valid_dl, epochs=10)"
   ]
  },
  {
   "cell_type": "code",
   "execution_count": 62,
   "metadata": {},
   "outputs": [],
   "source": [
    "torch.save(model.state_dict(), 'model.pth')"
   ]
  },
  {
   "cell_type": "code",
   "execution_count": 63,
   "metadata": {},
   "outputs": [
    {
     "name": "stdout",
     "output_type": "stream",
     "text": [
      "[395 483 615 707]\n"
     ]
    }
   ],
   "source": [
    "# test Dataset\n",
    "test_ds = CirclesDataset(pd.DataFrame([{'path':'./images/78.png'}])['path'],pd.DataFrame([{'bb':np.array([0,0,0,0])}])['bb'])\n",
    "x, y_bb = test_ds[0]\n",
    "xx = x[None,].cuda().float()\n",
    "# prediction\n",
    "out_bb = model(xx)\n",
    "# predicted bounding box\n",
    "bb_hat = denormalize(out_bb.detach().cpu().numpy())\n",
    "print(bb_hat[0])\n",
    "bb_hat = bb_hat[0].tolist()\n",
    "img = Image.open('./images/78.png')\n",
    "draw = ImageDraw.Draw(img)\n",
    "draw.rectangle((bb_hat[1], bb_hat[0], bb_hat[3], bb_hat[2]), outline=\"green\", width = 2)\n",
    "\n",
    "img.save('78.png')"
   ]
  },
  {
   "cell_type": "code",
   "execution_count": 64,
   "metadata": {},
   "outputs": [
    {
     "name": "stdout",
     "output_type": "stream",
     "text": [
      "1 [460, 496, 683, 723]\n",
      "2 [475, 380, 700, 608]\n",
      "3 [484, 644, 712, 889]\n",
      "4 [498, 664, 733, 912]\n",
      "5 [509, 702, 742, 960]\n",
      "6 [528, 1199, 760, 1441]\n",
      "7 [483, 1435, 715, 1669]\n",
      "8 [531, 1226, 764, 1470]\n",
      "9 [516, 970, 746, 1214]\n",
      "10 [514, 720, 745, 978]\n",
      "11 [482, 318, 705, 546]\n",
      "12 [434, 401, 655, 626]\n",
      "13 [475, 194, 698, 421]\n",
      "14 [480, 234, 703, 460]\n",
      "15 [521, 1157, 754, 1399]\n",
      "16 [479, 1422, 709, 1656]\n",
      "17 [505, 806, 735, 1052]\n",
      "18 [480, 676, 711, 920]\n",
      "19 [478, 487, 705, 721]\n",
      "20 [526, 1186, 760, 1429]\n",
      "21 [505, 852, 736, 1101]\n",
      "22 [516, 820, 749, 1069]\n",
      "23 [462, 556, 688, 795]\n",
      "24 [497, 1032, 727, 1271]\n",
      "25 [512, 1144, 743, 1383]\n",
      "26 [509, 689, 741, 944]\n",
      "27 [494, 670, 727, 917]\n",
      "28 [464, 725, 693, 960]\n",
      "29 [499, 940, 729, 1178]\n",
      "30 [509, 1135, 741, 1374]\n",
      "31 [506, 1009, 736, 1249]\n",
      "32 [487, 532, 712, 765]\n",
      "33 [508, 1032, 740, 1272]\n",
      "34 [510, 1007, 740, 1246]\n",
      "35 [477, 1424, 707, 1657]\n",
      "36 [471, 639, 699, 883]\n",
      "37 [495, 1060, 724, 1295]\n",
      "38 [493, 1046, 721, 1281]\n",
      "39 [530, 1227, 761, 1471]\n",
      "40 [455, 351, 673, 559]\n",
      "41 [470, 190, 693, 415]\n",
      "42 [450, 423, 671, 644]\n",
      "43 [457, 569, 683, 809]\n",
      "44 [475, 653, 703, 897]\n",
      "45 [501, 803, 731, 1049]\n",
      "46 [508, 962, 737, 1204]\n",
      "47 [470, 263, 695, 492]\n",
      "48 [471, 1466, 700, 1699]\n",
      "49 [470, 1469, 699, 1702]\n",
      "50 [469, 1456, 699, 1689]\n",
      "51 [480, 562, 707, 802]\n",
      "52 [362, 582, 581, 798]\n",
      "53 [465, 1263, 697, 1502]\n",
      "54 [359, 1430, 591, 1643]\n",
      "55 [470, 1468, 700, 1702]\n",
      "56 [374, 1387, 606, 1603]\n",
      "57 [486, 316, 712, 548]\n",
      "58 [311, 225, 523, 428]\n",
      "59 [470, 671, 697, 911]\n",
      "60 [484, 644, 712, 889]\n",
      "61 [484, 606, 712, 850]\n",
      "62 [465, 154, 690, 381]\n",
      "63 [506, 253, 736, 489]\n",
      "64 [488, 313, 713, 549]\n",
      "65 [480, 640, 708, 884]\n",
      "66 [488, 1352, 718, 1584]\n",
      "67 [519, 1157, 751, 1400]\n",
      "68 [488, 266, 714, 496]\n",
      "69 [474, 496, 699, 727]\n",
      "70 [506, 256, 735, 492]\n",
      "71 [506, 253, 736, 489]\n",
      "72 [506, 253, 736, 489]\n",
      "73 [470, 186, 693, 410]\n",
      "74 [466, 166, 688, 392]\n",
      "75 [474, 429, 700, 656]\n",
      "76 [471, 629, 699, 874]\n",
      "77 [391, 458, 610, 682]\n",
      "78 [464, 718, 689, 967]\n",
      "79 [482, 292, 707, 524]\n",
      "80 [503, 1213, 736, 1459]\n",
      "81 [486, 1231, 719, 1476]\n",
      "82 [474, 662, 703, 907]\n",
      "83 [457, 358, 680, 587]\n",
      "84 [441, 382, 663, 618]\n",
      "85 [475, 711, 705, 955]\n",
      "86 [528, 1241, 760, 1490]\n",
      "87 [514, 1121, 746, 1364]\n",
      "88 [486, 1401, 717, 1634]\n",
      "89 [510, 923, 740, 1166]\n",
      "90 [461, 163, 683, 389]\n",
      "91 [527, 1268, 761, 1518]\n",
      "92 [449, 462, 670, 687]\n",
      "93 [471, 267, 695, 495]\n",
      "94 [463, 622, 691, 865]\n",
      "95 [531, 1223, 763, 1467]\n",
      "96 [481, 199, 705, 425]\n",
      "97 [484, 599, 712, 844]\n",
      "98 [492, 846, 720, 1086]\n",
      "99 [527, 1253, 761, 1501]\n",
      "100 [495, 1085, 726, 1320]\n"
     ]
    }
   ],
   "source": [
    "n = 0\n",
    "for image_name in os.listdir(\"images/\"):\n",
    "    if image_name.endswith(\".png\"):\n",
    "        test_ds = CirclesDataset(pd.DataFrame([{'path':str('images/' + image_name)}])['path'],pd.DataFrame([{'bb':np.array([0,0,0,0])}])['bb'])\n",
    "        x, y_bb = test_ds[0]\n",
    "        xx = x[None,].cuda().float()\n",
    "        # prediction\n",
    "        # print(xx)\n",
    "        out_bb = model(xx)\n",
    "        # print(out_bb)\n",
    "        # predicted bounding box\n",
    "        bb_hat = out_bb.detach().cpu().numpy()\n",
    "        bb_hat = denormalize(bb_hat)\n",
    "        bb_hat = bb_hat.astype(int)\n",
    "        bb_hat = bb_hat[0].tolist()\n",
    "        n += 1\n",
    "        print(n, bb_hat)\n",
    "        img = Image.open(f'./images/{image_name}')\n",
    "        draw = ImageDraw.Draw(img)\n",
    "        draw.rectangle((bb_hat[1], bb_hat[0], bb_hat[3], bb_hat[2]), outline=\"green\", width = 2)\n",
    "\n",
    "        img.save(f'./output/{image_name}')"
   ]
  },
  {
   "cell_type": "code",
   "execution_count": null,
   "metadata": {},
   "outputs": [],
   "source": [
    "# for x in range(labels.shape[0]):\n",
    "#     bb_hat = labels.iloc[x]\n",
    "#     img = Image.open(f'./{bb_hat[0]}')\n",
    "#     draw = ImageDraw.Draw(img)\n",
    "#     draw.rectangle((bb_hat[1], bb_hat[2], bb_hat[3], bb_hat[4]), outline=\"red\", width = 2)\n",
    "\n",
    "#     img.save(f'./output/{bb_hat[0][6:]}')"
   ]
  },
  {
   "cell_type": "code",
   "execution_count": null,
   "metadata": {},
   "outputs": [],
   "source": [
    "# image_name = '78.png'\n",
    "# test_ds = CirclesDataset(pd.DataFrame([{'path':str('images/' + image_name)}])['path'],pd.DataFrame([{'bb':np.array([0,0,0,0])}])['bb'])\n",
    "# x, y_bb = test_ds[0]\n",
    "# xx = torch.FloatTensor(x[None,]).cuda()\n",
    "#         # prediction\n",
    "# out_bb = model(xx)\n",
    "# # predicted bounding box\n",
    "# bb_hat = out_bb.detach().cpu().numpy()\n",
    "# bb_hat = denormalize(bb_hat)\n",
    "# bb_hat = bb_hat.astype(int)\n",
    "# bb_hat = bb_hat[0].tolist()\n",
    "# img = Image.open(f'./images/{image_name}')\n",
    "# draw = ImageDraw.Draw(img)\n",
    "# draw.rectangle((bb_hat[1], bb_hat[0], bb_hat[3], bb_hat[2]), outline=\"green\", width = 2)\n",
    "\n",
    "# img.save(f'{image_name}')\n",
    "# (T.ToPILImage()(x)).save(f'{image_name}_edge.png')"
   ]
  },
  {
   "cell_type": "code",
   "execution_count": null,
   "metadata": {},
   "outputs": [],
   "source": []
  }
 ],
 "metadata": {
  "kernelspec": {
   "display_name": "mapenv",
   "language": "python",
   "name": "python3"
  },
  "language_info": {
   "codemirror_mode": {
    "name": "ipython",
    "version": 3
   },
   "file_extension": ".py",
   "mimetype": "text/x-python",
   "name": "python",
   "nbconvert_exporter": "python",
   "pygments_lexer": "ipython3",
   "version": "3.8.16"
  },
  "orig_nbformat": 4
 },
 "nbformat": 4,
 "nbformat_minor": 2
}
