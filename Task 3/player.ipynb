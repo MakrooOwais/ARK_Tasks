{
 "cells": [
  {
   "cell_type": "code",
   "execution_count": 1,
   "metadata": {},
   "outputs": [],
   "source": [
    "import torch\n",
    "import torch.nn as nn\n",
    "import torchvision.transforms as T\n",
    "import numpy as np\n",
    "from utils import Player, WINDOW_WIDTH\n",
    "from PIL import Image, ImageDraw"
   ]
  },
  {
   "cell_type": "code",
   "execution_count": 61,
   "metadata": {},
   "outputs": [
    {
     "data": {
      "text/plain": [
       "(106, 232)"
      ]
     },
     "execution_count": 61,
     "metadata": {},
     "output_type": "execute_result"
    }
   ],
   "source": [
    "player = Player()\n",
    "\n",
    "snapshot_original = T.ToTensor()(player.getSnapShot()).unsqueeze(0)\n",
    "map_original = T.ToTensor()(player.getMap()).unsqueeze(0)\n",
    "conv = nn.Conv2d(in_channels=1, out_channels=1, kernel_size=51)\n",
    "conv.weight = nn.Parameter(snapshot_original)\n",
    "prob = conv(map_original)\n",
    "a = torch.argmax(prob.squeeze(0).squeeze(0))\n",
    "y, x = int(a/prob.squeeze(0).squeeze(0).shape[0]), int(a%prob.squeeze(0).squeeze(0).shape[0])\n",
    "x,y"
   ]
  },
  {
   "cell_type": "code",
   "execution_count": 66,
   "metadata": {},
   "outputs": [],
   "source": [
    "map_pho = (T.ToPILImage()(map_original.squeeze(0).squeeze(0)))\n",
    "(T.ToPILImage()(snapshot_original.squeeze(0).squeeze(0))).save(\"snap.png\")\n",
    "map_pho.save('map.png')\n",
    "\n",
    "img = Image.open('map.png')\n",
    "rgbimg = Image.new(\"RGBA\", img.size)\n",
    "rgbimg.paste(img)\n",
    "draw = ImageDraw.Draw(rgbimg)\n",
    "draw.rectangle([(x, y), ((x+51),(y+51))], outline=\"red\", width = 1)\n",
    "rgbimg.show()"
   ]
  },
  {
   "cell_type": "code",
   "execution_count": 47,
   "metadata": {},
   "outputs": [
    {
     "data": {
      "text/plain": [
       "torch.Size([1, 1, 564, 564])"
      ]
     },
     "execution_count": 47,
     "metadata": {},
     "output_type": "execute_result"
    }
   ],
   "source": [
    "prob.shape"
   ]
  },
  {
   "cell_type": "code",
   "execution_count": 48,
   "metadata": {},
   "outputs": [
    {
     "data": {
      "text/plain": [
       "564"
      ]
     },
     "execution_count": 48,
     "metadata": {},
     "output_type": "execute_result"
    }
   ],
   "source": [
    "614-50"
   ]
  },
  {
   "cell_type": "code",
   "execution_count": 60,
   "metadata": {},
   "outputs": [
    {
     "data": {
      "text/plain": [
       "1.0"
      ]
     },
     "execution_count": 60,
     "metadata": {},
     "output_type": "execute_result"
    }
   ],
   "source": []
  },
  {
   "cell_type": "code",
   "execution_count": null,
   "metadata": {},
   "outputs": [],
   "source": []
  }
 ],
 "metadata": {
  "kernelspec": {
   "display_name": "mapenv",
   "language": "python",
   "name": "python3"
  },
  "language_info": {
   "codemirror_mode": {
    "name": "ipython",
    "version": 3
   },
   "file_extension": ".py",
   "mimetype": "text/x-python",
   "name": "python",
   "nbconvert_exporter": "python",
   "pygments_lexer": "ipython3",
   "version": "3.8.16"
  },
  "orig_nbformat": 4
 },
 "nbformat": 4,
 "nbformat_minor": 2
}
