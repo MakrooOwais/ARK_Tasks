{
 "cells": [
  {
   "cell_type": "code",
   "execution_count": 1,
   "metadata": {},
   "outputs": [],
   "source": [
    "from PIL import Image\n",
    "import numpy as np"
   ]
  },
  {
   "cell_type": "code",
   "execution_count": 2,
   "metadata": {},
   "outputs": [],
   "source": [
    "def rgb2gray(rgb):\n",
    "    r, g, b = rgb[:,:,0], rgb[:,:,1], rgb[:,:,2]\n",
    "    gray = 0.2989 * r + 0.5870 * g + 0.1140 * b\n",
    "\n",
    "    return gray.astype(np.uint8)"
   ]
  },
  {
   "cell_type": "code",
   "execution_count": 3,
   "metadata": {},
   "outputs": [],
   "source": [
    "ar = np.array(Image.open(r\"pi_image.png\"))"
   ]
  },
  {
   "cell_type": "code",
   "execution_count": 4,
   "metadata": {},
   "outputs": [
    {
     "data": {
      "text/plain": [
       "(50, 50)"
      ]
     },
     "execution_count": 4,
     "metadata": {},
     "output_type": "execute_result"
    }
   ],
   "source": [
    "ar.shape"
   ]
  },
  {
   "cell_type": "code",
   "execution_count": 5,
   "metadata": {},
   "outputs": [
    {
     "data": {
      "text/plain": [
       "array([30, 10, 40, 10, 50, 90, 20, 60, 50, 30, 50, 80, 90, 70, 90, 30, 20,\n",
       "       30, 80, 40, 60, 20, 60, 40, 30, 30, 80, 30, 20, 70, 90, 50,  0, 20,\n",
       "       80, 80, 40, 10, 90, 70, 10, 60, 90, 30, 90, 90, 30, 70, 50, 10],\n",
       "      dtype=uint8)"
      ]
     },
     "execution_count": 5,
     "metadata": {},
     "output_type": "execute_result"
    }
   ],
   "source": [
    "ar[0]"
   ]
  },
  {
   "cell_type": "code",
   "execution_count": 6,
   "metadata": {},
   "outputs": [],
   "source": [
    "actual_pi = (np.loadtxt('pi.tsv', delimiter=' ', dtype= str).astype(int)*10).reshape((50, 50))\n"
   ]
  },
  {
   "cell_type": "code",
   "execution_count": 7,
   "metadata": {},
   "outputs": [],
   "source": [
    "comparison = actual_pi != ar"
   ]
  },
  {
   "cell_type": "code",
   "execution_count": 8,
   "metadata": {},
   "outputs": [
    {
     "data": {
      "text/plain": [
       "4"
      ]
     },
     "execution_count": 8,
     "metadata": {},
     "output_type": "execute_result"
    }
   ],
   "source": [
    "np.sum(comparison)"
   ]
  },
  {
   "cell_type": "code",
   "execution_count": 14,
   "metadata": {},
   "outputs": [
    {
     "name": "stdout",
     "output_type": "stream",
     "text": [
      "0\n",
      "80\n",
      "30\n",
      "90\n"
     ]
    }
   ],
   "source": [
    "from math import pi\n",
    "\n",
    "filter = []\n",
    "\n",
    "for x in range(50):\n",
    "    for y in range(50):\n",
    "        if (comparison)[x][y]:\n",
    "            print(actual_pi[x][y])\n",
    "            filter.append(actual_pi[x][y])\n",
    "\n",
    "\n",
    "filter = np.array(sorted(filter))\n",
    "filter = filter.reshape(2,2) * pi\n",
    "filter = filter.astype(np.uint8)"
   ]
  },
  {
   "cell_type": "code",
   "execution_count": 15,
   "metadata": {},
   "outputs": [
    {
     "data": {
      "text/plain": [
       "array([[  0,  94],\n",
       "       [251,  26]], dtype=uint8)"
      ]
     },
     "execution_count": 15,
     "metadata": {},
     "output_type": "execute_result"
    }
   ],
   "source": [
    "filter"
   ]
  },
  {
   "cell_type": "code",
   "execution_count": 13,
   "metadata": {},
   "outputs": [],
   "source": [
    "Image.fromarray(filter).save(f'filter.png')"
   ]
  },
  {
   "cell_type": "code",
   "execution_count": 11,
   "metadata": {},
   "outputs": [
    {
     "data": {
      "text/plain": [
       "(100, 100)"
      ]
     },
     "execution_count": 11,
     "metadata": {},
     "output_type": "execute_result"
    }
   ],
   "source": [
    "im_2 = Image.open(r\"artwork_picasso.png\")\n",
    "ar_2 = np.array(im_2)\n",
    "ar_2.shape"
   ]
  },
  {
   "cell_type": "code",
   "execution_count": 13,
   "metadata": {},
   "outputs": [],
   "source": [
    "potentials = np.zeros((3, 100, 100))\n",
    "\n",
    "for i in range(3):\n",
    "    for x in range (50):\n",
    "        for y in range(50):\n",
    "            potential_img_00 = [filter[0][0] ^ ar_2[2*x][2*y], filter[0][0] | ar_2[2*x][2*y], filter[0][0] & ar_2[2*x][2*y]]\n",
    "            potential_img_01 = [filter[0][1] ^ ar_2[2*x][2*y + 1], filter[0][1] | ar_2[2*x][2*y + 1],  filter[0][1] & ar_2[2*x][2*y + 1]]\n",
    "            potential_img_10 = [filter[1][0] ^ ar_2[2*x + 1][2*y],  filter[1][0] | ar_2[2*x + 1][2*y], filter[1][0] & ar_2[2*x + 1][2*y]]\n",
    "            potential_img_11 = [filter[1][1] ^ ar_2[2*x + 1][2*y + 1], filter[1][1] | ar_2[2*x + 1][2*y + 1], filter[1][1] & ar_2[2*x + 1][2*y + 1]]\n",
    "            \n",
    "            potentials[i][2*x][2*y] = potential_img_00[i]\n",
    "            potentials[i][2*x+ 1][2*y] = potential_img_10[i]\n",
    "            potentials[i][2*x + 1][2*y + 1] = potential_img_11[i]\n",
    "            potentials[i][2*x][2*y + 1] = potential_img_01[i]\n",
    "\n",
    "\n",
    "    data = Image.fromarray(potentials[i].astype(np.uint8))\n",
    "    # data.convert('L')\n",
    "    data.save(f'Potentials/potential_{i}.png')"
   ]
  },
  {
   "cell_type": "code",
   "execution_count": 15,
   "metadata": {},
   "outputs": [],
   "source": [
    "col_ar = rgb2gray(np.array(Image.open('collage.png'))).astype(np.uint8)\n",
    "\n",
    "Image.fromarray(col_ar).save('greyscale.png')"
   ]
  },
  {
   "cell_type": "code",
   "execution_count": 16,
   "metadata": {},
   "outputs": [],
   "source": [
    "H = 0\n",
    "\n",
    "while H < col_ar.shape[0]:\n",
    "    W = 0\n",
    "    while W < col_ar.shape[1]:\n",
    "        window = col_ar[W: W+100, H: H+100]\n",
    "        if np.sum(window):\n",
    "            Image.fromarray(\n",
    "                col_ar[W: W+100, H: H+100]\n",
    "                ).save(\n",
    "                    f'collage/col_{int(H/100)}{int(W/100)}.png'\n",
    "                    )\n",
    "        W += 100\n",
    "    H += 100"
   ]
  },
  {
   "cell_type": "code",
   "execution_count": 51,
   "metadata": {},
   "outputs": [
    {
     "data": {
      "text/plain": [
       "array([[192, 192, 192, ...,   0,   0,   0],\n",
       "       [192, 192, 192, ...,   0,   0,   0],\n",
       "       [192, 192, 192, ...,   0,   0,   0],\n",
       "       ...,\n",
       "       [  0,   0,   0, ...,   0,   0,   0],\n",
       "       [  0,   0,   0, ...,   0,   0,   0],\n",
       "       [  0,   0,   0, ...,   0,   0,   0]], dtype=uint8)"
      ]
     },
     "execution_count": 51,
     "metadata": {},
     "output_type": "execute_result"
    }
   ],
   "source": [
    "col_ar"
   ]
  },
  {
   "cell_type": "code",
   "execution_count": 104,
   "metadata": {},
   "outputs": [],
   "source": [
    "template = np.array(Image.open('Potentials/potential_2.png'))"
   ]
  },
  {
   "cell_type": "code",
   "execution_count": 105,
   "metadata": {},
   "outputs": [
    {
     "data": {
      "text/plain": [
       "array([[  0,  26,   0, ...,  28,   0,  28],\n",
       "       [154,   0, 154, ...,   2, 152,   2],\n",
       "       [  0,  26,   0, ...,  28,   0,  68],\n",
       "       ...,\n",
       "       [251,   0, 250, ...,  24, 233,  18],\n",
       "       [  0,  94,   0, ...,  76,   0,  76],\n",
       "       [250,   0, 250, ...,  24, 226,  24]], dtype=uint8)"
      ]
     },
     "execution_count": 105,
     "metadata": {},
     "output_type": "execute_result"
    }
   ],
   "source": [
    "template"
   ]
  },
  {
   "cell_type": "code",
   "execution_count": 54,
   "metadata": {},
   "outputs": [],
   "source": [
    "import os"
   ]
  },
  {
   "cell_type": "code",
   "execution_count": 134,
   "metadata": {},
   "outputs": [],
   "source": [
    "def score(img1: np.ndarray, img2: np.ndarray):\n",
    "    return np.sum(np.sqrt(abs((img1)**2 - (img2)**2))/1000)"
   ]
  },
  {
   "cell_type": "code",
   "execution_count": 155,
   "metadata": {},
   "outputs": [
    {
     "name": "stdout",
     "output_type": "stream",
     "text": [
      "800 800\n",
      "100 100\n"
     ]
    }
   ],
   "source": [
    "from collections import defaultdict\n",
    "\n",
    "full_w,full_h = col_ar.shape\n",
    "sub_w,sub_h = template.shape\n",
    "\n",
    "print(full_w,full_h)\n",
    "print(sub_w,sub_h)\n",
    "\n",
    "score_dict = defaultdict(int)\n",
    "for sub_image_name in os.listdir(\"Potentials/\"):\n",
    "    if sub_image_name.endswith(\".png\"):\n",
    "      # sub_image_name = 'potential_2.png'\n",
    "      sub_image = np.array(Image.open(f\"Potentials/{sub_image_name}\"))\n",
    "      for window_name in os.listdir(\"Collage/\"):\n",
    "         if window_name.endswith(\".png\"):\n",
    "            window = np.array(Image.open(f\"Collage/{window_name}\"))\n",
    "            score_dict[window_name, sub_image_name] += score(window, sub_image)"
   ]
  },
  {
   "cell_type": "code",
   "execution_count": 157,
   "metadata": {},
   "outputs": [
    {
     "data": {
      "text/plain": [
       "(('col_11.png', 'potential_2.png'), 100.8006820678711)"
      ]
     },
     "execution_count": 157,
     "metadata": {},
     "output_type": "execute_result"
    }
   ],
   "source": [
    "sorted(score_dict.items(), key = lambda x: x[1])[0]"
   ]
  },
  {
   "cell_type": "code",
   "execution_count": 168,
   "metadata": {},
   "outputs": [],
   "source": [
    "import re\n",
    "\n",
    "x= re.match(pattern='col_([0-9])([0-9]).png', string=sorted(score_dict.items(), key = lambda x: x[1])[0][0][0])\n",
    "password = int((int(x[1])*100 + int(x[2])*100) * pi)"
   ]
  },
  {
   "cell_type": "code",
   "execution_count": 169,
   "metadata": {},
   "outputs": [
    {
     "data": {
      "text/plain": [
       "628"
      ]
     },
     "execution_count": 169,
     "metadata": {},
     "output_type": "execute_result"
    }
   ],
   "source": [
    "password"
   ]
  },
  {
   "cell_type": "code",
   "execution_count": null,
   "metadata": {},
   "outputs": [],
   "source": []
  }
 ],
 "metadata": {
  "kernelspec": {
   "display_name": "playenv",
   "language": "python",
   "name": "python3"
  },
  "language_info": {
   "codemirror_mode": {
    "name": "ipython",
    "version": 3
   },
   "file_extension": ".py",
   "mimetype": "text/x-python",
   "name": "python",
   "nbconvert_exporter": "python",
   "pygments_lexer": "ipython3",
   "version": "3.8.16"
  },
  "orig_nbformat": 4
 },
 "nbformat": 4,
 "nbformat_minor": 2
}
